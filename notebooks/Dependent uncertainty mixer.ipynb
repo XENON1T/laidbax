{
 "cells": [
  {
   "cell_type": "code",
   "execution_count": 2,
   "metadata": {
    "collapsed": true
   },
   "outputs": [],
   "source": [
    "import numpy as np\n",
    "from scipy.interpolate import RegularGridInterpolator\n",
    "from scipy import stats\n",
    "points = (np.array([-1, 0, 1]), np.array([-1, 0, 1]))\n",
    "\n",
    "from tqdm import tqdm\n",
    "import matplotlib.pyplot as plt\n",
    "%matplotlib inline"
   ]
  },
  {
   "cell_type": "code",
   "execution_count": 750,
   "metadata": {
    "collapsed": true
   },
   "outputs": [],
   "source": [
    "from wimpy.analysis import extended_loglikelihood\n",
    "\n",
    "def arrays_to_grid(arrs):\n",
    "    return np.stack(np.meshgrid(*arrs), axis=-1)   \n",
    "\n",
    "class DependentUncertaintyMixer():\n",
    "    anchor_z_grid = None     # numpy array containing z-parameters of each anchor model\n",
    "    anchor_models = None     # dictionary mapping z-parameters to actual anchor models\n",
    "    \n",
    "    def __init__(self, anchor_models, anchor_z_arrays):\n",
    "        self.anchor_models = anchor_models\n",
    "        self.anchor_z_arrays = anchor_z_arrays\n",
    "        self.anchor_z_grid = arrays_to_grid(anchor_z_arrays)\n",
    "        \n",
    "        self.n_sources = len(list(self.anchor_models.values())[0].expected_events())\n",
    "        self.mu_maker = self.make_interpolator(f=lambda m: m.expected_events(), extra_dims=[self.n_sources])\n",
    "        \n",
    "    def loglikelihood(self, *zs):\n",
    "        \"\"\"Return the loglikelihood of the data (previously set with set_data) at the given z-values.\n",
    "        \"\"\"\n",
    "        # The interpolators want numpy arrays: give it to them...\n",
    "        zs = np.asarray([zs])\n",
    "        # The interpolators return numpy arrays with one extra dimension: remove it...\n",
    "        result =  extended_loglikelihood(mu=self.mu_maker(zs)[0],\n",
    "                                         ps=self.ps_maker(zs)[0])\n",
    "        # Add the penalties for the z-values\n",
    "        result += stats.norm(0,1).logpdf(zs).sum()\n",
    "        return result\n",
    "        \n",
    "    def set_data(self, d):\n",
    "        self.ps_maker =  self.make_interpolator(f=lambda m: m.score_events(d), \n",
    "                                                extra_dims=[self.n_sources, len(d)])\n",
    "    \n",
    "    def make_interpolator(self, f, extra_dims):\n",
    "        \"\"\"Return an interpolator which interpolates the extra_dims-valued function f(model) \n",
    "        between the anchor points\n",
    "        \"\"\"\n",
    "        anchor_scores = np.zeros(list(self.anchor_z_grid.shape)[:-1] + extra_dims)\n",
    "        fake_grid = np.zeros(list(self.anchor_z_grid.shape)[:-1])   # Only used for iteration...\n",
    "        it = np.nditer(fake_grid, flags=['multi_index'])\n",
    "#         print(anchor_scores.shape, fake_grid.shape)\n",
    "#         print(list(it.multi_index) + [slice(None)] * len(extra_dims))\n",
    "        while not it.finished:\n",
    "            zs = tuple(self.anchor_z_grid[list(it.multi_index) + [slice(None)]])\n",
    "            anchor_scores[list(it.multi_index) + [slice(None)] * len(extra_dims)] = f(self.anchor_models[zs])\n",
    "            it.iternext()\n",
    "#         print(self.anchor_z_arrays, anchor_scores.shape)\n",
    "        return RegularGridInterpolator(self.anchor_z_arrays, anchor_scores)\n"
   ]
  },
  {
   "cell_type": "code",
   "execution_count": 751,
   "metadata": {
    "collapsed": true
   },
   "outputs": [],
   "source": [
    "class FakeModel(object):\n",
    "    p = 1\n",
    "    mu = 1\n",
    "    n_sources = 4\n",
    "    \n",
    "    def __init__(self, config=None, **kwargs):\n",
    "        for k, v in kwargs.items():\n",
    "            setattr(self, k, v)\n",
    "    \n",
    "    def expected_events(self):\n",
    "        return [self.mu] * self.n_sources\n",
    "        \n",
    "    def score_events(self, d):\n",
    "        return np.ones((self.n_sources, len(d))) * self.p\n",
    "    "
   ]
  },
  {
   "cell_type": "markdown",
   "metadata": {},
   "source": [
    "# Try one uncertainty"
   ]
  },
  {
   "cell_type": "code",
   "execution_count": 752,
   "metadata": {
    "collapsed": false
   },
   "outputs": [],
   "source": [
    "anchor_z_arrays = (np.array([-5, -1, 0, 1, 5]),)\n",
    "grid = arrays_to_grid(anchor_z_arrays)\n",
    "anchor_models = {tuple(z): FakeModel(p=1/(1 + abs(z[0])))\n",
    "                 for z in grid.reshape(-1, len(anchor_z_arrays))}"
   ]
  },
  {
   "cell_type": "code",
   "execution_count": 753,
   "metadata": {
    "collapsed": false
   },
   "outputs": [],
   "source": [
    "dum = DependentUncertaintyMixer(anchor_models, anchor_z_arrays)"
   ]
  },
  {
   "cell_type": "code",
   "execution_count": 754,
   "metadata": {
    "collapsed": false
   },
   "outputs": [],
   "source": [
    "d = np.zeros(10)\n",
    "dum.set_data(d)"
   ]
  },
  {
   "cell_type": "code",
   "execution_count": 755,
   "metadata": {
    "collapsed": false
   },
   "outputs": [
    {
     "data": {
      "text/plain": [
       "(4,)"
      ]
     },
     "execution_count": 755,
     "metadata": {},
     "output_type": "execute_result"
    }
   ],
   "source": [
    "dum.mu_maker(np.array([0,]))[0].shape"
   ]
  },
  {
   "cell_type": "code",
   "execution_count": 756,
   "metadata": {
    "collapsed": false
   },
   "outputs": [
    {
     "data": {
      "text/plain": [
       "(4, 10)"
      ]
     },
     "execution_count": 756,
     "metadata": {},
     "output_type": "execute_result"
    }
   ],
   "source": [
    "dum.ps_maker(np.array([0,]))[0].shape"
   ]
  },
  {
   "cell_type": "code",
   "execution_count": 757,
   "metadata": {
    "collapsed": false
   },
   "outputs": [
    {
     "data": {
      "text/plain": [
       "{(-5,): <__main__.FakeModel at 0x7fb47da432e8>,\n",
       " (-1,): <__main__.FakeModel at 0x7fb47da430b8>,\n",
       " (0,): <__main__.FakeModel at 0x7fb47da431d0>,\n",
       " (1,): <__main__.FakeModel at 0x7fb47da43240>,\n",
       " (5,): <__main__.FakeModel at 0x7fb47da430f0>}"
      ]
     },
     "execution_count": 757,
     "metadata": {},
     "output_type": "execute_result"
    }
   ],
   "source": [
    "dum.anchor_models"
   ]
  },
  {
   "cell_type": "code",
   "execution_count": 758,
   "metadata": {
    "collapsed": false
   },
   "outputs": [
    {
     "data": {
      "text/plain": [
       "<matplotlib.collections.PathCollection at 0x7fb47d9325c0>"
      ]
     },
     "execution_count": 758,
     "metadata": {},
     "output_type": "execute_result"
    },
    {
     "data": {
      "image/png": "[encoded data removed]",
      "text/plain": [
       "<matplotlib.figure.Figure at 0x7fb47da455f8>"
      ]
     },
     "metadata": {},
     "output_type": "display_data"
    }
   ],
   "source": [
    "x = np.linspace(-5, 5, 100)\n",
    "y = np.array([dum.loglikelihood(q) for q in x])\n",
    "plt.plot(x, y)\n",
    "\n",
    "\n",
    "zs = []\n",
    "results = []\n",
    "results_nopenalty = []\n",
    "for (z,), m in dum.anchor_models.items():\n",
    "    zs.append(z)\n",
    "    result = extended_loglikelihood(mu=np.array(m.expected_events()), \n",
    "                                    ps=m.score_events(d))\n",
    "    results_nopenalty.append(result)\n",
    "    result += stats.norm(0,1).logpdf(z)\n",
    "    results.append(result)\n",
    "    \n",
    "plt.scatter(zs, results)\n",
    "plt.scatter(zs, results_nopenalty, color='red')\n",
    "    \n",
    "# plt.plot(x, 1/(1+np.abs(x)) + stats.norm.logpdf(x))"
   ]
  },
  {
   "cell_type": "markdown",
   "metadata": {},
   "source": [
    "# Try 2 uncertainties"
   ]
  },
  {
   "cell_type": "code",
   "execution_count": 759,
   "metadata": {
    "collapsed": false
   },
   "outputs": [],
   "source": [
    "anchor_z_arrays = (np.array([-1, 0, 1]), np.array([-2, 0, 2]))\n",
    "grid = arrays_to_grid(anchor_z_arrays)\n",
    "anchor_models = {tuple(z): FakeModel(p=1/(1 + abs(z[0] + z[1])))\n",
    "                 for z in grid.reshape(-1, len(anchor_z_arrays))}"
   ]
  },
  {
   "cell_type": "code",
   "execution_count": 760,
   "metadata": {
    "collapsed": false
   },
   "outputs": [],
   "source": [
    "dum = DependentUncertaintyMixer(anchor_models, anchor_z_arrays)"
   ]
  },
  {
   "cell_type": "code",
   "execution_count": 761,
   "metadata": {
    "collapsed": false
   },
   "outputs": [],
   "source": [
    "d = np.zeros(10)\n",
    "dum.set_data(d)"
   ]
  },
  {
   "cell_type": "code",
   "execution_count": 762,
   "metadata": {
    "collapsed": false
   },
   "outputs": [
    {
     "data": {
      "text/plain": [
       "(4,)"
      ]
     },
     "execution_count": 762,
     "metadata": {},
     "output_type": "execute_result"
    }
   ],
   "source": [
    "dum.mu_maker(np.array([0, 0]))[0].shape"
   ]
  },
  {
   "cell_type": "code",
   "execution_count": 763,
   "metadata": {
    "collapsed": false
   },
   "outputs": [
    {
     "data": {
      "text/plain": [
       "(4, 10)"
      ]
     },
     "execution_count": 763,
     "metadata": {},
     "output_type": "execute_result"
    }
   ],
   "source": [
    "dum.ps_maker(np.array([0, 0]))[0].shape"
   ]
  },
  {
   "cell_type": "code",
   "execution_count": 764,
   "metadata": {
    "collapsed": false
   },
   "outputs": [
    {
     "name": "stderr",
     "output_type": "stream",
     "text": []
    },
    {
     "data": {
      "text/plain": [
       "<matplotlib.collections.PathCollection at 0x7fb47d8c2d30>"
      ]
     },
     "execution_count": 764,
     "metadata": {},
     "output_type": "execute_result"
    },
    {
     "data": {
      "image/png": "[encoded data removed]",
      "text/plain": [
       "<matplotlib.figure.Figure at 0x7fb47da3a898>"
      ]
     },
     "metadata": {},
     "output_type": "display_data"
    }
   ],
   "source": [
    "x = np.linspace(-1, 1, 100)\n",
    "y = np.linspace(-2, 2, 100)\n",
    "\n",
    "pointpairs = arrays_to_grid((x, y)).reshape(-1, 2)\n",
    "z = np.zeros(len(pointpairs))\n",
    "for i, p in enumerate(tqdm(pointpairs)):\n",
    "    z[i] = dum.loglikelihood(*p)\n",
    "z = z.reshape(len(x), len(y))\n",
    "\n",
    "plt.pcolormesh(x, y, z.T)\n",
    "plt.colorbar()\n",
    "plt.xlim(1.1 * x.min(), 1.1 * x.max())\n",
    "plt.ylim(1.1 * y.min(), 1.1 * y.max())\n",
    "\n",
    "xs = []\n",
    "ys = []\n",
    "zs = []\n",
    "for (x, y), m in dum.anchor_models.items():\n",
    "    xs.append(x)\n",
    "    ys.append(y)\n",
    "    result = extended_loglikelihood(mu=np.array(m.expected_events()), \n",
    "                                     ps=m.score_events(d))\n",
    "    result += stats.norm(0,1).logpdf([x, y]).sum()\n",
    "    zs.append(result)\n",
    "    \n",
    "plt.scatter(xs, ys, c=zs, s=20)\n"
   ]
  },
  {
   "cell_type": "markdown",
   "metadata": {},
   "source": [
    "Why interpolate the mus and individual event ps instead of just the final loglikelihood fo the entire dataset? In the latter case you could never do better than the lowest anchor point."
   ]
  }
 ],
 "metadata": {
  "kernelspec": {
   "display_name": "Python 3",
   "language": "python",
   "name": "python3"
  },
  "language_info": {
   "codemirror_mode": {
    "name": "ipython",
    "version": 3
   },
   "file_extension": ".py",
   "mimetype": "text/x-python",
   "name": "python",
   "nbconvert_exporter": "python",
   "pygments_lexer": "ipython3",
   "version": "3.4.4"
  }
 },
 "nbformat": 4,
 "nbformat_minor": 0
}
