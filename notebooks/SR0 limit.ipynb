{
 "cells": [
  {
   "cell_type": "code",
   "execution_count": 1,
   "metadata": {
    "collapsed": true
   },
   "outputs": [],
   "source": [
    "import numpy as np\n",
    "import pandas as pd\n",
    "from tqdm import tqdm\n",
    "\n",
    "import matplotlib\n",
    "import matplotlib.pyplot as plt\n",
    "%matplotlib inline\n",
    "\n",
    "import blueice as bi\n",
    "from laidbax import base_model\n",
    "data_dir = base_model.THIS_DIR + '/data/'"
   ]
  },
  {
   "cell_type": "code",
   "execution_count": 2,
   "metadata": {
    "collapsed": true
   },
   "outputs": [],
   "source": [
    "# Load the published result\n",
    "published = pd.read_csv(data_dir + 'sr0_result.csv').loc[10]\n",
    "\n",
    "# Load the data\n",
    "data = pd.read_csv(data_dir + 'sr0_search_data.csv')\n",
    "data['cs1'] = data['cs1_pe']\n",
    "data['cs2'] = data['cs2_bottom_pe']\n",
    "\n",
    "# Remove the silly outlier. Would make limit very dependent on MC statistics of WIMP model\n",
    "# (If I recall for SR0 we were quite lucky and had a bit of an underfluctuation there...)\n",
    "# And coincidentally or not, this also reproduces the published limit much more accurately..?\n",
    "data_nooutlier = data[~ ((data['cs1'] > 68) & (data['cs2'] < 1e3))]"
   ]
  },
  {
   "cell_type": "code",
   "execution_count": 3,
   "metadata": {
    "collapsed": false
   },
   "outputs": [],
   "source": [
    "ll = bi.UnbinnedLogLikelihood(base_model.config)\n",
    "ll.add_rate_parameter('wimp')\n",
    "ll.add_rate_parameter('er')\n",
    "ll.prepare()\n",
    "ll.set_data(data_nooutlier)"
   ]
  },
  {
   "cell_type": "code",
   "execution_count": 4,
   "metadata": {
    "collapsed": false
   },
   "outputs": [
    {
     "data": {
      "text/plain": [
       "(0.08518443798073073, 1.0179264750930634)"
      ]
     },
     "execution_count": 4,
     "metadata": {},
     "output_type": "execute_result"
    }
   ],
   "source": [
    "limit_options = dict(bestfit_routine='scipy',\n",
    "                     minimize_kwargs=dict(method='Powell',))\n",
    "limit = ll.one_parameter_interval('wimp_rate_multiplier', bound=1,  **limit_options)\n",
    "limit, limit/published.limit_zb"
   ]
  },
  {
   "cell_type": "code",
   "execution_count": 5,
   "metadata": {
    "collapsed": false
   },
   "outputs": [
    {
     "name": "stderr",
     "output_type": "stream",
     "text": [
      "100%|██████████| 1000/1000 [00:47<00:00, 21.11it/s]\n"
     ]
    }
   ],
   "source": [
    "n_trials = int(1e3)\n",
    "\n",
    "limits = np.zeros(n_trials)\n",
    "for i in tqdm(range(n_trials)):\n",
    "    d = ll.base_model.simulate(rate_multipliers=dict(wimp=0))\n",
    "    ll.set_data(d)\n",
    "    limits[i] = ll.one_parameter_interval('wimp_rate_multiplier', bound=1, \n",
    "                                          **limit_options)\n",
    "    \n",
    "sensitivity = np.median(limits) "
   ]
  },
  {
   "cell_type": "code",
   "execution_count": 6,
   "metadata": {
    "collapsed": false
   },
   "outputs": [
    {
     "data": {
      "text/plain": [
       "(0.082309944336309296, 0.93753609141886318)"
      ]
     },
     "execution_count": 6,
     "metadata": {},
     "output_type": "execute_result"
    }
   ],
   "source": [
    "sensitivity, sensitivity/published.sensitivity_median_zb"
   ]
  },
  {
   "cell_type": "code",
   "execution_count": null,
   "metadata": {
    "collapsed": true
   },
   "outputs": [],
   "source": []
  }
 ],
 "metadata": {
  "anaconda-cloud": {},
  "kernelspec": {
   "display_name": "Python [conda env:pax]",
   "language": "python",
   "name": "conda-env-pax-py"
  },
  "language_info": {
   "codemirror_mode": {
    "name": "ipython",
    "version": 3
   },
   "file_extension": ".py",
   "mimetype": "text/x-python",
   "name": "python",
   "nbconvert_exporter": "python",
   "pygments_lexer": "ipython3",
   "version": "3.4.5"
  }
 },
 "nbformat": 4,
 "nbformat_minor": 0
}
